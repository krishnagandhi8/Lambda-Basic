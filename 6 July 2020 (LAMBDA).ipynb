{
 "cells": [
  {
   "cell_type": "markdown",
   "metadata": {},
   "source": [
    "# Write a Python program to create a lambda function that adds 15 to a given number passed in as an argument, also create a lambda function that multiplies argument x with argument y and print the result."
   ]
  },
  {
   "cell_type": "code",
   "execution_count": 1,
   "metadata": {},
   "outputs": [
    {
     "name": "stdout",
     "output_type": "stream",
     "text": [
      "22\n"
     ]
    }
   ],
   "source": [
    "x = lambda a: a+10\n",
    "print(x(12))"
   ]
  },
  {
   "cell_type": "code",
   "execution_count": 3,
   "metadata": {},
   "outputs": [
    {
     "name": "stdout",
     "output_type": "stream",
     "text": [
      "20\n"
     ]
    }
   ],
   "source": [
    "x = lambda a,b : a*b\n",
    "print(x(4,5))"
   ]
  },
  {
   "cell_type": "markdown",
   "metadata": {},
   "source": [
    "# Write a Python program to create a function that takes one argument, and that argument will be multiplied with an unknown given number."
   ]
  },
  {
   "cell_type": "code",
   "execution_count": 4,
   "metadata": {},
   "outputs": [
    {
     "name": "stdout",
     "output_type": "stream",
     "text": [
      "Enter the number:10\n",
      "40\n"
     ]
    }
   ],
   "source": [
    "r = int(input(\"Enter the number:\"))\n",
    "x = lambda a: a*r\n",
    "print(x(4))"
   ]
  },
  {
   "cell_type": "markdown",
   "metadata": {},
   "source": [
    "#  Write a Python program to sort a list of tuples using Lambda"
   ]
  },
  {
   "cell_type": "code",
   "execution_count": 5,
   "metadata": {},
   "outputs": [
    {
     "name": "stdout",
     "output_type": "stream",
     "text": [
      "Original tuple: [('Messi', 10), ('Neymar', 11), ('Suarez', 9)]\n"
     ]
    }
   ],
   "source": [
    "players = [('Messi',10),('Neymar',11),('Suarez',9)]\n",
    "print(\"Original tuple:\",players)"
   ]
  },
  {
   "cell_type": "code",
   "execution_count": 9,
   "metadata": {},
   "outputs": [
    {
     "name": "stdout",
     "output_type": "stream",
     "text": [
      "Sorted tuple: [('Suarez', 9), ('Messi', 10), ('Neymar', 11)]\n"
     ]
    }
   ],
   "source": [
    "players.sort(key = lambda x:x[1])\n",
    "print(\"Sorted tuple:\",players)"
   ]
  },
  {
   "cell_type": "markdown",
   "metadata": {},
   "source": [
    "# Write a Python program to sort a list of dictionaries using Lambda"
   ]
  },
  {
   "cell_type": "code",
   "execution_count": 24,
   "metadata": {},
   "outputs": [
    {
     "name": "stdout",
     "output_type": "stream",
     "text": [
      "Original Dictionaries: [{'number': 1, 'name': 'Ter Stegen'}, {'number': 2, 'name': 'Alba'}, {'number': 4, 'name': 'Rakitic'}, {'number': 3, 'name': 'Pique'}]\n"
     ]
    }
   ],
   "source": [
    "players = [{'number':1, 'name':'Ter Stegen'},{'number':2,'name':'Alba'},{'number':4,'name':'Rakitic'},\n",
    "           {'number':3,'name':'Pique'}]\n",
    "print(\"Original Dictionaries:\",players)"
   ]
  },
  {
   "cell_type": "code",
   "execution_count": 25,
   "metadata": {},
   "outputs": [],
   "source": [
    "players_sorted = sorted(players, key= lambda x:x['number'])"
   ]
  },
  {
   "cell_type": "code",
   "execution_count": 26,
   "metadata": {},
   "outputs": [
    {
     "name": "stdout",
     "output_type": "stream",
     "text": [
      "Players after sorting: [{'number': 1, 'name': 'Ter Stegen'}, {'number': 2, 'name': 'Alba'}, {'number': 3, 'name': 'Pique'}, {'number': 4, 'name': 'Rakitic'}]\n"
     ]
    }
   ],
   "source": [
    "print(\"Players after sorting:\",players_sorted)"
   ]
  },
  {
   "attachments": {},
   "cell_type": "markdown",
   "metadata": {},
   "source": [
    "# Write a Python program to filter a list of integers using Lambda"
   ]
  },
  {
   "cell_type": "code",
   "execution_count": 27,
   "metadata": {},
   "outputs": [
    {
     "name": "stdout",
     "output_type": "stream",
     "text": [
      "Filter List: [2, 6, 20]\n"
     ]
    }
   ],
   "source": [
    "lis = [5,1,2,3,6,9,20]\n",
    "filter_list = list(filter(lambda x:(x%2==0),lis))\n",
    "print(\"Filter List:\",filter_list)"
   ]
  },
  {
   "cell_type": "markdown",
   "metadata": {},
   "source": [
    "# Write a Python program to square and cube every number in a given list of integers using Lambda."
   ]
  },
  {
   "cell_type": "code",
   "execution_count": 30,
   "metadata": {},
   "outputs": [
    {
     "name": "stdout",
     "output_type": "stream",
     "text": [
      "Square List: [1, 4, 9, 16, 25]\n"
     ]
    }
   ],
   "source": [
    "lis = [1,2,3,4,5]\n",
    "square_list = list(map(lambda x : x*x, lis))\n",
    "print(\"Square List:\",square_list)"
   ]
  },
  {
   "cell_type": "code",
   "execution_count": 31,
   "metadata": {},
   "outputs": [
    {
     "name": "stdout",
     "output_type": "stream",
     "text": [
      "Cube List: [1, 8, 27, 64, 125]\n"
     ]
    }
   ],
   "source": [
    "cube_list = list(map(lambda x : x*x*x, lis))\n",
    "print(\"Cube List:\",cube_list)"
   ]
  },
  {
   "cell_type": "markdown",
   "metadata": {},
   "source": [
    "# Write a Python program to find whether a given string starts with a given character using Lambda."
   ]
  },
  {
   "cell_type": "code",
   "execution_count": 32,
   "metadata": {},
   "outputs": [
    {
     "name": "stdout",
     "output_type": "stream",
     "text": [
      "True\n"
     ]
    }
   ],
   "source": [
    "start = lambda x: True if x.startswith('K') else False\n",
    "print(start(\"Krishna\"))"
   ]
  },
  {
   "cell_type": "code",
   "execution_count": 33,
   "metadata": {},
   "outputs": [
    {
     "name": "stdout",
     "output_type": "stream",
     "text": [
      "False\n"
     ]
    }
   ],
   "source": [
    "start = lambda x: True if x.startswith('M') else False\n",
    "print(start(\"Krishna\"))"
   ]
  },
  {
   "cell_type": "markdown",
   "metadata": {},
   "source": [
    "#  Write a Python program to extract year, month, date and time using Lambda. "
   ]
  },
  {
   "cell_type": "code",
   "execution_count": 34,
   "metadata": {},
   "outputs": [
    {
     "name": "stdout",
     "output_type": "stream",
     "text": [
      "2020-07-06 12:55:00.398728\n"
     ]
    }
   ],
   "source": [
    "import datetime\n",
    "now = datetime.datetime.now()\n",
    "print(now)"
   ]
  },
  {
   "cell_type": "code",
   "execution_count": 36,
   "metadata": {},
   "outputs": [
    {
     "name": "stdout",
     "output_type": "stream",
     "text": [
      "2020\n",
      "7\n",
      "6\n",
      "12:55:00.398728\n"
     ]
    }
   ],
   "source": [
    "year = lambda x: x.year\n",
    "month = lambda x: x.month\n",
    "day = lambda x: x.day\n",
    "\n",
    "t = lambda x :x.time()\n",
    "print(year(now))\n",
    "print(month(now))\n",
    "print(day(now))\n",
    "print(t(now))"
   ]
  },
  {
   "cell_type": "markdown",
   "metadata": {},
   "source": [
    "# Write a Python program to check whether a given string is number or not using Lambda"
   ]
  },
  {
   "cell_type": "code",
   "execution_count": 42,
   "metadata": {},
   "outputs": [
    {
     "name": "stdout",
     "output_type": "stream",
     "text": [
      "True\n",
      "False\n"
     ]
    }
   ],
   "source": [
    "is_num = lambda q: q.replace('.','',1).isdigit()\n",
    "\n",
    "print(is_num('3'))\n",
    "print(is_num('Krishna'))"
   ]
  },
  {
   "cell_type": "markdown",
   "metadata": {},
   "source": [
    "# Write a Python program to create Fibonacci series upto n using Lambda."
   ]
  },
  {
   "cell_type": "code",
   "execution_count": 43,
   "metadata": {},
   "outputs": [],
   "source": [
    "from functools import reduce\n",
    " \n",
    "fib_series = lambda n: reduce(lambda x, _: x+[x[-1]+x[-2]],range(n-2), [0, 1])\n",
    " "
   ]
  },
  {
   "cell_type": "code",
   "execution_count": 44,
   "metadata": {},
   "outputs": [
    {
     "name": "stdout",
     "output_type": "stream",
     "text": [
      "\n",
      "Fibonacci series upto 5:\n",
      "[0, 1, 1, 2, 3]\n"
     ]
    }
   ],
   "source": [
    "print(\"\\nFibonacci series upto 5:\")\n",
    "print(fib_series(5))"
   ]
  },
  {
   "cell_type": "markdown",
   "metadata": {},
   "source": [
    "# Write a Python program to find intersection of two given arrays using Lambda."
   ]
  },
  {
   "cell_type": "code",
   "execution_count": 47,
   "metadata": {},
   "outputs": [
    {
     "name": "stdout",
     "output_type": "stream",
     "text": [
      "Intersection is: [2]\n"
     ]
    }
   ],
   "source": [
    "sets = [1,2,3]\n",
    "sets1 = [2,4,5]\n",
    "\n",
    "intersection = list(filter(lambda x:x in sets,sets1))\n",
    "print(\"Intersection is:\",intersection)"
   ]
  },
  {
   "cell_type": "markdown",
   "metadata": {},
   "source": [
    "# Write a Python program to rearrange positive and negative numbers in a given array using Lambda."
   ]
  },
  {
   "cell_type": "code",
   "execution_count": 50,
   "metadata": {},
   "outputs": [
    {
     "name": "stdout",
     "output_type": "stream",
     "text": [
      "[-5, -4, -3, -2, -1, 0, 1, 2, 3, 4, 5]\n"
     ]
    }
   ],
   "source": [
    "lis = [0,1,2,3,4,5,-5,-4,-3,-2,-1]\n",
    "result = [x for x in lis if x < 0] + [x for x in lis if x >= 0]\n",
    "print(result)\n"
   ]
  },
  {
   "cell_type": "markdown",
   "metadata": {},
   "source": [
    "# Write a Python program to count the even, odd numbers in a given array of integers using Lambda."
   ]
  },
  {
   "cell_type": "code",
   "execution_count": 57,
   "metadata": {},
   "outputs": [
    {
     "name": "stdout",
     "output_type": "stream",
     "text": [
      "\n",
      "Number of even numbers in the above array:  5\n",
      "\n",
      "Number of odd numbers in the above array:  6\n"
     ]
    }
   ],
   "source": [
    "counter_even = 0\n",
    "counter_odd = 0\n",
    "\n",
    "lis = [1,2,3,4,5,6,7,8,9,10,11]\n",
    "odd_ctr = len(list(filter(lambda x: (x%2 != 0) , lis)))\n",
    "even_ctr = len(list(filter(lambda x: (x%2 == 0) , lis)))\n",
    "print(\"\\nNumber of even numbers in the above array: \", even_ctr)\n",
    "print(\"\\nNumber of odd numbers in the above array: \", odd_ctr)"
   ]
  },
  {
   "cell_type": "markdown",
   "metadata": {},
   "source": [
    "# Write a Python program to filter a given list whether the values in the list are having length of 6 using Lambda."
   ]
  },
  {
   "cell_type": "code",
   "execution_count": 60,
   "metadata": {},
   "outputs": [
    {
     "name": "stdout",
     "output_type": "stream",
     "text": [
      "Suarez\n",
      "DeJong\n",
      "Umtiti\n"
     ]
    }
   ],
   "source": [
    "players = ['Messi', 'Suarez', 'DeJong', 'Busquets', 'Umtiti']\n",
    "Player_length = filter(lambda Player_len: Player_len if len(Player_len)==6 else '', players)\n",
    "for d in Player_length:\n",
    "    print(d)"
   ]
  },
  {
   "cell_type": "markdown",
   "metadata": {},
   "source": [
    "# Write a Python program to add two given lists using map and lambda"
   ]
  },
  {
   "cell_type": "code",
   "execution_count": 63,
   "metadata": {},
   "outputs": [
    {
     "name": "stdout",
     "output_type": "stream",
     "text": [
      "Final List: [6, 8, 10, 12]\n"
     ]
    }
   ],
   "source": [
    "lis1 = [1,2,3,4]\n",
    "list2 = [5,6,7,8]\n",
    "final_list = list(map(lambda x,y:x+y , lis1,list2))\n",
    "print(\"Final List:\",final_list)"
   ]
  },
  {
   "cell_type": "markdown",
   "metadata": {},
   "source": [
    "# Write a Python program to find the second lowest grade of any student(s) from the given names and grades of each student using lists and lambda. Input number of students, names and grades of each student."
   ]
  },
  {
   "cell_type": "code",
   "execution_count": 73,
   "metadata": {},
   "outputs": [
    {
     "name": "stdout",
     "output_type": "stream",
     "text": [
      "Enter the  number of student you want to input:3\n",
      "Enter nameA\n",
      "Grade: 4\n",
      "Enter nameB\n",
      "Grade: 3\n",
      "Enter nameC\n",
      "Grade: 2\n",
      "\n",
      "Names and Grades of all students:\n",
      "[['A', 4.0], ['B', 3.0], ['C', 2.0]]\n",
      "\n",
      "Second lowest grade:  3.0\n",
      "\n",
      "Names:\n",
      "B\n"
     ]
    }
   ],
   "source": [
    "students = []\n",
    "sec_name = []\n",
    "second_low = 0\n",
    "number_of_student = int(input(\"Enter the  number of student you want to input:\"))\n",
    "for i in range(0,number_of_student):\n",
    "    student_name = input(\"Enter name\")\n",
    "    score = float(input(\"Grade: \"))\n",
    "    students.append([student_name,score])\n",
    "print(\"\\nNames and Grades of all students:\")\n",
    "print(students)\n",
    "order = sorted(students, key=lambda x:int(x[1]))\n",
    "\n",
    "for i in range(number_of_student):\n",
    "    if order[i][1] != order[0][1]:\n",
    "        second_low = order[i][1]\n",
    "        break\n",
    "print(\"\\nSecond lowest grade: \",second_low)\n",
    "sec_student_name = [x[0] for x in order if x[1] == second_low]\n",
    "sec_student_name.sort()\n",
    "print(\"\\nNames:\")\n",
    "for student_name in sec_student_name:\n",
    "    print(student_name)"
   ]
  },
  {
   "cell_type": "markdown",
   "metadata": {},
   "source": [
    "# Write a Python program to find numbers divisible by nineteen or thirteen from a list of numbers using Lambda"
   ]
  },
  {
   "cell_type": "code",
   "execution_count": 76,
   "metadata": {},
   "outputs": [
    {
     "name": "stdout",
     "output_type": "stream",
     "text": [
      "Divisible by 13: [13, 26, 39]\n",
      "Divisible by 19: [19, 38, 57]\n"
     ]
    }
   ],
   "source": [
    "lis = [13,26,19,38,39,57]\n",
    "result_13 = list(filter(lambda x: x%13==0,lis))\n",
    "result_19 = list(filter(lambda x: x%19==0,lis))\n",
    "\n",
    "print(\"Divisible by 13:\",result_13)\n",
    "print(\"Divisible by 19:\",result_19)"
   ]
  },
  {
   "cell_type": "markdown",
   "metadata": {},
   "source": [
    "# Write a Python program to find palindromes in a given list of strings using Lambda."
   ]
  },
  {
   "cell_type": "code",
   "execution_count": 77,
   "metadata": {},
   "outputs": [
    {
     "name": "stdout",
     "output_type": "stream",
     "text": [
      "Orginal list of strings:\n",
      "['php', 'w3r', 'Python', 'abcd', 'Java', 'aaa']\n",
      "\n",
      "List of palindromes:\n",
      "['php', 'aaa']\n"
     ]
    }
   ],
   "source": [
    "texts = [\"php\", \"w3r\", \"Python\", \"abcd\", \"Java\", \"aaa\"]\n",
    "print(\"Orginal list of strings:\")\n",
    "print(texts) \n",
    "result = list(filter(lambda x: (x == \"\".join(reversed(x))), texts)) \n",
    "print(\"\\nList of palindromes:\")\n",
    "print(result) "
   ]
  },
  {
   "cell_type": "markdown",
   "metadata": {},
   "source": [
    "# Write a Python program to find all anagrams of a string in a given list of strings using lambda. "
   ]
  },
  {
   "cell_type": "code",
   "execution_count": 79,
   "metadata": {},
   "outputs": [
    {
     "name": "stdout",
     "output_type": "stream",
     "text": [
      "Orginal list of strings:\n",
      "['bcda', 'abce', 'cbda', 'cbea', 'adcb']\n",
      "\n",
      "Anagrams of 'abcd' in the above string:  ['bcda', 'cbda', 'adcb']\n"
     ]
    }
   ],
   "source": [
    "from collections import Counter  \n",
    "texts = [\"bcda\", \"abce\", \"cbda\", \"cbea\", \"adcb\"]\n",
    "str = \"abcd\"\n",
    "print(\"Orginal list of strings:\")\n",
    "print(texts) \n",
    "result = list(filter(lambda x: (Counter(str) == Counter(x)), texts)) \n",
    "print(\"\\nAnagrams of 'abcd' in the above string: \",result)"
   ]
  },
  {
   "cell_type": "code",
   "execution_count": null,
   "metadata": {},
   "outputs": [],
   "source": []
  }
 ],
 "metadata": {
  "kernelspec": {
   "display_name": "Python 3",
   "language": "python",
   "name": "python3"
  },
  "language_info": {
   "codemirror_mode": {
    "name": "ipython",
    "version": 3
   },
   "file_extension": ".py",
   "mimetype": "text/x-python",
   "name": "python",
   "nbconvert_exporter": "python",
   "pygments_lexer": "ipython3",
   "version": "3.7.3"
  }
 },
 "nbformat": 4,
 "nbformat_minor": 2
}
